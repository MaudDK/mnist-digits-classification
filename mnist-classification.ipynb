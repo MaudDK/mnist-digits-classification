{
 "cells": [
  {
   "cell_type": "code",
   "execution_count": 1,
   "id": "dcaa175d",
   "metadata": {
    "_cell_guid": "b1076dfc-b9ad-4769-8c92-a6c4dae69d19",
    "_uuid": "8f2839f25d086af736a60e9eeb907d3b93b6e0e5",
    "execution": {
     "iopub.execute_input": "2022-05-02T02:05:05.267545Z",
     "iopub.status.busy": "2022-05-02T02:05:05.266830Z",
     "iopub.status.idle": "2022-05-02T02:05:06.352459Z",
     "shell.execute_reply": "2022-05-02T02:05:06.351550Z"
    },
    "papermill": {
     "duration": 1.135637,
     "end_time": "2022-05-02T02:05:06.354940",
     "exception": false,
     "start_time": "2022-05-02T02:05:05.219303",
     "status": "completed"
    },
    "tags": []
   },
   "outputs": [],
   "source": [
    "import numpy as np\n",
    "import pandas as pd\n",
    "import matplotlib as mpl\n",
    "import matplotlib.pyplot as plt\n",
    "%matplotlib inline\n",
    "from sklearn.datasets import fetch_openml\n",
    "from sklearn.model_selection import train_test_split"
   ]
  },
  {
   "cell_type": "markdown",
   "id": "a92807fb",
   "metadata": {
    "papermill": {
     "duration": 0.044015,
     "end_time": "2022-05-02T02:05:06.443714",
     "exception": false,
     "start_time": "2022-05-02T02:05:06.399699",
     "status": "completed"
    },
    "tags": []
   },
   "source": [
    "Preparations"
   ]
  },
  {
   "cell_type": "code",
   "execution_count": 2,
   "id": "c8651ff1",
   "metadata": {
    "execution": {
     "iopub.execute_input": "2022-05-02T02:05:06.536163Z",
     "iopub.status.busy": "2022-05-02T02:05:06.535904Z",
     "iopub.status.idle": "2022-05-02T02:05:49.161373Z",
     "shell.execute_reply": "2022-05-02T02:05:49.160450Z"
    },
    "papermill": {
     "duration": 42.673716,
     "end_time": "2022-05-02T02:05:49.163924",
     "exception": false,
     "start_time": "2022-05-02T02:05:06.490208",
     "status": "completed"
    },
    "tags": []
   },
   "outputs": [],
   "source": [
    "mnist = fetch_openml('mnist_784', version = 1, as_frame = False)"
   ]
  },
  {
   "cell_type": "code",
   "execution_count": 3,
   "id": "1e17c070",
   "metadata": {
    "execution": {
     "iopub.execute_input": "2022-05-02T02:05:49.254853Z",
     "iopub.status.busy": "2022-05-02T02:05:49.254147Z",
     "iopub.status.idle": "2022-05-02T02:05:49.262232Z",
     "shell.execute_reply": "2022-05-02T02:05:49.261465Z"
    },
    "papermill": {
     "duration": 0.055812,
     "end_time": "2022-05-02T02:05:49.264299",
     "exception": false,
     "start_time": "2022-05-02T02:05:49.208487",
     "status": "completed"
    },
    "tags": []
   },
   "outputs": [
    {
     "data": {
      "text/plain": [
       "dict_keys(['data', 'target', 'frame', 'categories', 'feature_names', 'target_names', 'DESCR', 'details', 'url'])"
      ]
     },
     "execution_count": 3,
     "metadata": {},
     "output_type": "execute_result"
    }
   ],
   "source": [
    "mnist.keys()"
   ]
  },
  {
   "cell_type": "code",
   "execution_count": 4,
   "id": "5144cba2",
   "metadata": {
    "execution": {
     "iopub.execute_input": "2022-05-02T02:05:49.357099Z",
     "iopub.status.busy": "2022-05-02T02:05:49.356681Z",
     "iopub.status.idle": "2022-05-02T02:05:49.360656Z",
     "shell.execute_reply": "2022-05-02T02:05:49.360099Z"
    },
    "papermill": {
     "duration": 0.052454,
     "end_time": "2022-05-02T02:05:49.362421",
     "exception": false,
     "start_time": "2022-05-02T02:05:49.309967",
     "status": "completed"
    },
    "tags": []
   },
   "outputs": [],
   "source": [
    "X,y = mnist['data'], mnist['target']"
   ]
  },
  {
   "cell_type": "code",
   "execution_count": 5,
   "id": "fafcdb35",
   "metadata": {
    "execution": {
     "iopub.execute_input": "2022-05-02T02:05:49.454737Z",
     "iopub.status.busy": "2022-05-02T02:05:49.454254Z",
     "iopub.status.idle": "2022-05-02T02:05:49.459925Z",
     "shell.execute_reply": "2022-05-02T02:05:49.459170Z"
    },
    "papermill": {
     "duration": 0.054164,
     "end_time": "2022-05-02T02:05:49.461717",
     "exception": false,
     "start_time": "2022-05-02T02:05:49.407553",
     "status": "completed"
    },
    "tags": []
   },
   "outputs": [
    {
     "data": {
      "text/plain": [
       "(70000, 784)"
      ]
     },
     "execution_count": 5,
     "metadata": {},
     "output_type": "execute_result"
    }
   ],
   "source": [
    "X.shape"
   ]
  },
  {
   "cell_type": "code",
   "execution_count": 6,
   "id": "8801eef1",
   "metadata": {
    "execution": {
     "iopub.execute_input": "2022-05-02T02:05:49.554820Z",
     "iopub.status.busy": "2022-05-02T02:05:49.554348Z",
     "iopub.status.idle": "2022-05-02T02:05:49.560013Z",
     "shell.execute_reply": "2022-05-02T02:05:49.559334Z"
    },
    "papermill": {
     "duration": 0.05447,
     "end_time": "2022-05-02T02:05:49.561843",
     "exception": false,
     "start_time": "2022-05-02T02:05:49.507373",
     "status": "completed"
    },
    "tags": []
   },
   "outputs": [
    {
     "data": {
      "text/plain": [
       "(70000,)"
      ]
     },
     "execution_count": 6,
     "metadata": {},
     "output_type": "execute_result"
    }
   ],
   "source": [
    "y.shape"
   ]
  },
  {
   "cell_type": "code",
   "execution_count": 7,
   "id": "7099298c",
   "metadata": {
    "execution": {
     "iopub.execute_input": "2022-05-02T02:05:49.655800Z",
     "iopub.status.busy": "2022-05-02T02:05:49.655301Z",
     "iopub.status.idle": "2022-05-02T02:05:49.769640Z",
     "shell.execute_reply": "2022-05-02T02:05:49.768557Z"
    },
    "papermill": {
     "duration": 0.164674,
     "end_time": "2022-05-02T02:05:49.772565",
     "exception": false,
     "start_time": "2022-05-02T02:05:49.607891",
     "status": "completed"
    },
    "tags": []
   },
   "outputs": [
    {
     "data": {
      "text/plain": [
       "(-0.5, 27.5, 27.5, -0.5)"
      ]
     },
     "execution_count": 7,
     "metadata": {},
     "output_type": "execute_result"
    },
    {
     "data": {
      "image/png": "[encoded data removed]",
      "text/plain": [
       "<Figure size 432x288 with 1 Axes>"
      ]
     },
     "metadata": {
      "needs_background": "light"
     },
     "output_type": "display_data"
    }
   ],
   "source": [
    "num = X[0]\n",
    "plt.imshow(num.reshape(28,28), cmap = 'binary')\n",
    "plt.axis(False)"
   ]
  },
  {
   "cell_type": "code",
   "execution_count": 8,
   "id": "900ab4cd",
   "metadata": {
    "execution": {
     "iopub.execute_input": "2022-05-02T02:05:49.889099Z",
     "iopub.status.busy": "2022-05-02T02:05:49.888232Z",
     "iopub.status.idle": "2022-05-02T02:05:49.893375Z",
     "shell.execute_reply": "2022-05-02T02:05:49.892767Z"
    },
    "papermill": {
     "duration": 0.055636,
     "end_time": "2022-05-02T02:05:49.895173",
     "exception": false,
     "start_time": "2022-05-02T02:05:49.839537",
     "status": "completed"
    },
    "tags": []
   },
   "outputs": [
    {
     "data": {
      "text/plain": [
       "'5'"
      ]
     },
     "execution_count": 8,
     "metadata": {},
     "output_type": "execute_result"
    }
   ],
   "source": [
    "y[0]"
   ]
  },
  {
   "cell_type": "code",
   "execution_count": 9,
   "id": "106072a3",
   "metadata": {
    "execution": {
     "iopub.execute_input": "2022-05-02T02:05:49.993339Z",
     "iopub.status.busy": "2022-05-02T02:05:49.992737Z",
     "iopub.status.idle": "2022-05-02T02:05:50.005868Z",
     "shell.execute_reply": "2022-05-02T02:05:50.005011Z"
    },
    "papermill": {
     "duration": 0.064419,
     "end_time": "2022-05-02T02:05:50.008001",
     "exception": false,
     "start_time": "2022-05-02T02:05:49.943582",
     "status": "completed"
    },
    "tags": []
   },
   "outputs": [],
   "source": [
    "y = y.astype(np.uint8)"
   ]
  },
  {
   "cell_type": "code",
   "execution_count": 10,
   "id": "87fcc24d",
   "metadata": {
    "execution": {
     "iopub.execute_input": "2022-05-02T02:05:50.107718Z",
     "iopub.status.busy": "2022-05-02T02:05:50.106899Z",
     "iopub.status.idle": "2022-05-02T02:05:50.111088Z",
     "shell.execute_reply": "2022-05-02T02:05:50.110557Z"
    },
    "papermill": {
     "duration": 0.056435,
     "end_time": "2022-05-02T02:05:50.112871",
     "exception": false,
     "start_time": "2022-05-02T02:05:50.056436",
     "status": "completed"
    },
    "tags": []
   },
   "outputs": [],
   "source": [
    "def get_distributions(ys):\n",
    "    unique_elements, counts_elements = np.unique(ys, return_counts=True)\n",
    "    return pd.Series(counts_elements, index=unique_elements)"
   ]
  },
  {
   "cell_type": "code",
   "execution_count": 11,
   "id": "df88445c",
   "metadata": {
    "execution": {
     "iopub.execute_input": "2022-05-02T02:05:50.234173Z",
     "iopub.status.busy": "2022-05-02T02:05:50.233525Z",
     "iopub.status.idle": "2022-05-02T02:05:50.238888Z",
     "shell.execute_reply": "2022-05-02T02:05:50.238194Z"
    },
    "papermill": {
     "duration": 0.071644,
     "end_time": "2022-05-02T02:05:50.240671",
     "exception": false,
     "start_time": "2022-05-02T02:05:50.169027",
     "status": "completed"
    },
    "tags": []
   },
   "outputs": [],
   "source": [
    "#Data is already shuffled\n",
    "mnist_shuffle = True\n",
    "if mnist_shuffle:\n",
    "    X_train, X_test, y_train, y_test = X[:60000], X[60000:], y[:60000], y[60000:]\n",
    "else:\n",
    "    X_train, X_test, y_train, y_test = train_test_split(X, y, test_size = 0.1, stratify = y, shuffle = True, random_state = 42)"
   ]
  },
  {
   "cell_type": "code",
   "execution_count": 12,
   "id": "03e4eebb",
   "metadata": {
    "execution": {
     "iopub.execute_input": "2022-05-02T02:05:50.342544Z",
     "iopub.status.busy": "2022-05-02T02:05:50.342005Z",
     "iopub.status.idle": "2022-05-02T02:05:50.351049Z",
     "shell.execute_reply": "2022-05-02T02:05:50.350407Z"
    },
    "papermill": {
     "duration": 0.062407,
     "end_time": "2022-05-02T02:05:50.352904",
     "exception": false,
     "start_time": "2022-05-02T02:05:50.290497",
     "status": "completed"
    },
    "tags": []
   },
   "outputs": [
    {
     "data": {
      "text/plain": [
       "0    6903\n",
       "1    7877\n",
       "2    6990\n",
       "3    7141\n",
       "4    6824\n",
       "5    6313\n",
       "6    6876\n",
       "7    7293\n",
       "8    6825\n",
       "9    6958\n",
       "dtype: int64"
      ]
     },
     "execution_count": 12,
     "metadata": {},
     "output_type": "execute_result"
    }
   ],
   "source": [
    "get_distributions(y)"
   ]
  },
  {
   "cell_type": "code",
   "execution_count": 13,
   "id": "40b809ed",
   "metadata": {
    "execution": {
     "iopub.execute_input": "2022-05-02T02:05:50.453718Z",
     "iopub.status.busy": "2022-05-02T02:05:50.453188Z",
     "iopub.status.idle": "2022-05-02T02:05:50.461925Z",
     "shell.execute_reply": "2022-05-02T02:05:50.461167Z"
    },
    "papermill": {
     "duration": 0.061332,
     "end_time": "2022-05-02T02:05:50.463796",
     "exception": false,
     "start_time": "2022-05-02T02:05:50.402464",
     "status": "completed"
    },
    "tags": []
   },
   "outputs": [
    {
     "data": {
      "text/plain": [
       "0    5923\n",
       "1    6742\n",
       "2    5958\n",
       "3    6131\n",
       "4    5842\n",
       "5    5421\n",
       "6    5918\n",
       "7    6265\n",
       "8    5851\n",
       "9    5949\n",
       "dtype: int64"
      ]
     },
     "execution_count": 13,
     "metadata": {},
     "output_type": "execute_result"
    }
   ],
   "source": [
    "get_distributions(y_train)"
   ]
  },
  {
   "cell_type": "markdown",
   "id": "827dbc30",
   "metadata": {
    "papermill": {
     "duration": 0.049817,
     "end_time": "2022-05-02T02:05:50.563308",
     "exception": false,
     "start_time": "2022-05-02T02:05:50.513491",
     "status": "completed"
    },
    "tags": []
   },
   "source": [
    "Binary Detector 5 Detector"
   ]
  },
  {
   "cell_type": "code",
   "execution_count": 14,
   "id": "d4390892",
   "metadata": {
    "execution": {
     "iopub.execute_input": "2022-05-02T02:05:50.664713Z",
     "iopub.status.busy": "2022-05-02T02:05:50.664197Z",
     "iopub.status.idle": "2022-05-02T02:05:50.671172Z",
     "shell.execute_reply": "2022-05-02T02:05:50.670562Z"
    },
    "papermill": {
     "duration": 0.0599,
     "end_time": "2022-05-02T02:05:50.672979",
     "exception": false,
     "start_time": "2022-05-02T02:05:50.613079",
     "status": "completed"
    },
    "tags": []
   },
   "outputs": [
    {
     "data": {
      "text/plain": [
       "0     980\n",
       "1    1135\n",
       "2    1032\n",
       "3    1010\n",
       "4     982\n",
       "5     892\n",
       "6     958\n",
       "7    1028\n",
       "8     974\n",
       "9    1009\n",
       "dtype: int64"
      ]
     },
     "execution_count": 14,
     "metadata": {},
     "output_type": "execute_result"
    }
   ],
   "source": [
    "get_distributions(y_test)"
   ]
  },
  {
   "cell_type": "code",
   "execution_count": 15,
   "id": "891b6561",
   "metadata": {
    "execution": {
     "iopub.execute_input": "2022-05-02T02:05:50.776022Z",
     "iopub.status.busy": "2022-05-02T02:05:50.775455Z",
     "iopub.status.idle": "2022-05-02T02:05:50.779732Z",
     "shell.execute_reply": "2022-05-02T02:05:50.779080Z"
    },
    "papermill": {
     "duration": 0.057941,
     "end_time": "2022-05-02T02:05:50.781599",
     "exception": false,
     "start_time": "2022-05-02T02:05:50.723658",
     "status": "completed"
    },
    "tags": []
   },
   "outputs": [],
   "source": [
    "y_train_5 = (y_train == 5)\n",
    "y_test_5 = (y_test == 5)"
   ]
  },
  {
   "cell_type": "code",
   "execution_count": 16,
   "id": "bc5be5fd",
   "metadata": {
    "execution": {
     "iopub.execute_input": "2022-05-02T02:05:50.885337Z",
     "iopub.status.busy": "2022-05-02T02:05:50.884797Z",
     "iopub.status.idle": "2022-05-02T02:06:13.252053Z",
     "shell.execute_reply": "2022-05-02T02:06:13.251053Z"
    },
    "papermill": {
     "duration": 22.422004,
     "end_time": "2022-05-02T02:06:13.254216",
     "exception": false,
     "start_time": "2022-05-02T02:05:50.832212",
     "status": "completed"
    },
    "tags": []
   },
   "outputs": [
    {
     "data": {
      "text/plain": [
       "SGDClassifier(random_state=42)"
      ]
     },
     "execution_count": 16,
     "metadata": {},
     "output_type": "execute_result"
    }
   ],
   "source": [
    "from sklearn.linear_model import SGDClassifier\n",
    "\n",
    "sgd_clf = SGDClassifier(random_state = 42)\n",
    "sgd_clf.fit(X_train, y_train_5)"
   ]
  },
  {
   "cell_type": "code",
   "execution_count": 17,
   "id": "73a174a2",
   "metadata": {
    "execution": {
     "iopub.execute_input": "2022-05-02T02:06:13.358473Z",
     "iopub.status.busy": "2022-05-02T02:06:13.358069Z",
     "iopub.status.idle": "2022-05-02T02:06:13.363849Z",
     "shell.execute_reply": "2022-05-02T02:06:13.363029Z"
    },
    "papermill": {
     "duration": 0.060569,
     "end_time": "2022-05-02T02:06:13.365574",
     "exception": false,
     "start_time": "2022-05-02T02:06:13.305005",
     "status": "completed"
    },
    "tags": []
   },
   "outputs": [
    {
     "data": {
      "text/plain": [
       "5"
      ]
     },
     "execution_count": 17,
     "metadata": {},
     "output_type": "execute_result"
    }
   ],
   "source": [
    "y[0]"
   ]
  },
  {
   "cell_type": "code",
   "execution_count": 18,
   "id": "80477871",
   "metadata": {
    "execution": {
     "iopub.execute_input": "2022-05-02T02:06:13.470647Z",
     "iopub.status.busy": "2022-05-02T02:06:13.469756Z",
     "iopub.status.idle": "2022-05-02T02:06:13.476742Z",
     "shell.execute_reply": "2022-05-02T02:06:13.476131Z"
    },
    "papermill": {
     "duration": 0.061418,
     "end_time": "2022-05-02T02:06:13.478459",
     "exception": false,
     "start_time": "2022-05-02T02:06:13.417041",
     "status": "completed"
    },
    "tags": []
   },
   "outputs": [
    {
     "data": {
      "text/plain": [
       "array([ True])"
      ]
     },
     "execution_count": 18,
     "metadata": {},
     "output_type": "execute_result"
    }
   ],
   "source": [
    "sgd_clf.predict([X[0]])"
   ]
  },
  {
   "cell_type": "code",
   "execution_count": 19,
   "id": "2c93f7cb",
   "metadata": {
    "execution": {
     "iopub.execute_input": "2022-05-02T02:06:13.584358Z",
     "iopub.status.busy": "2022-05-02T02:06:13.583861Z",
     "iopub.status.idle": "2022-05-02T02:06:27.578797Z",
     "shell.execute_reply": "2022-05-02T02:06:27.578153Z"
    },
    "papermill": {
     "duration": 14.050808,
     "end_time": "2022-05-02T02:06:27.581450",
     "exception": false,
     "start_time": "2022-05-02T02:06:13.530642",
     "status": "completed"
    },
    "tags": []
   },
   "outputs": [
    {
     "data": {
      "text/plain": [
       "array([0.95035, 0.96035, 0.9604 ])"
      ]
     },
     "execution_count": 19,
     "metadata": {},
     "output_type": "execute_result"
    }
   ],
   "source": [
    "from sklearn.model_selection import cross_val_score, cross_val_predict\n",
    "cross_val_score(sgd_clf, X_train, y_train_5, cv = 3, n_jobs = -1, scoring = \"accuracy\")"
   ]
  },
  {
   "cell_type": "code",
   "execution_count": 20,
   "id": "d76c45bd",
   "metadata": {
    "execution": {
     "iopub.execute_input": "2022-05-02T02:06:27.710132Z",
     "iopub.status.busy": "2022-05-02T02:06:27.709661Z",
     "iopub.status.idle": "2022-05-02T02:06:27.716424Z",
     "shell.execute_reply": "2022-05-02T02:06:27.715429Z"
    },
    "papermill": {
     "duration": 0.066229,
     "end_time": "2022-05-02T02:06:27.718501",
     "exception": false,
     "start_time": "2022-05-02T02:06:27.652272",
     "status": "completed"
    },
    "tags": []
   },
   "outputs": [],
   "source": [
    "from sklearn.base import BaseEstimator\n",
    "\n",
    "class Never5Classifier(BaseEstimator):\n",
    "    def fit(self, X, y = None):\n",
    "        return self\n",
    "    def predict(self, X):\n",
    "        return np.zeros((len(X), 1), dtype = bool)"
   ]
  },
  {
   "cell_type": "code",
   "execution_count": 21,
   "id": "eceb8a3a",
   "metadata": {
    "execution": {
     "iopub.execute_input": "2022-05-02T02:06:27.834493Z",
     "iopub.status.busy": "2022-05-02T02:06:27.834174Z",
     "iopub.status.idle": "2022-05-02T02:06:28.869061Z",
     "shell.execute_reply": "2022-05-02T02:06:28.868166Z"
    },
    "papermill": {
     "duration": 1.092837,
     "end_time": "2022-05-02T02:06:28.871318",
     "exception": false,
     "start_time": "2022-05-02T02:06:27.778481",
     "status": "completed"
    },
    "tags": []
   },
   "outputs": [
    {
     "data": {
      "text/plain": [
       "array([0.91125, 0.90855, 0.90915])"
      ]
     },
     "execution_count": 21,
     "metadata": {},
     "output_type": "execute_result"
    }
   ],
   "source": [
    "never_5_clf = Never5Classifier()\n",
    "cross_val_score(never_5_clf, X_train, y_train_5, cv = 3, n_jobs = -1, scoring = \"accuracy\")"
   ]
  },
  {
   "cell_type": "markdown",
   "id": "7e339edf",
   "metadata": {
    "papermill": {
     "duration": 0.053383,
     "end_time": "2022-05-02T02:06:28.978204",
     "exception": false,
     "start_time": "2022-05-02T02:06:28.924821",
     "status": "completed"
    },
    "tags": []
   },
   "source": [
    "Accuracy is not good when dealing with skewed datasets\n"
   ]
  },
  {
   "cell_type": "code",
   "execution_count": 22,
   "id": "16cf4079",
   "metadata": {
    "execution": {
     "iopub.execute_input": "2022-05-02T02:06:29.087825Z",
     "iopub.status.busy": "2022-05-02T02:06:29.087561Z",
     "iopub.status.idle": "2022-05-02T02:06:42.090856Z",
     "shell.execute_reply": "2022-05-02T02:06:42.090042Z"
    },
    "papermill": {
     "duration": 13.061526,
     "end_time": "2022-05-02T02:06:42.093377",
     "exception": false,
     "start_time": "2022-05-02T02:06:29.031851",
     "status": "completed"
    },
    "tags": []
   },
   "outputs": [],
   "source": [
    "y_train_pred = cross_val_predict(sgd_clf, X_train, y_train_5, cv = 3, n_jobs = -1)\n"
   ]
  },
  {
   "cell_type": "markdown",
   "id": "069bac03",
   "metadata": {
    "papermill": {
     "duration": 0.055574,
     "end_time": "2022-05-02T02:06:42.204347",
     "exception": false,
     "start_time": "2022-05-02T02:06:42.148773",
     "status": "completed"
    },
    "tags": []
   },
   "source": [
    "Confusion Matrix"
   ]
  },
  {
   "cell_type": "code",
   "execution_count": 23,
   "id": "491fcbc4",
   "metadata": {
    "execution": {
     "iopub.execute_input": "2022-05-02T02:06:42.314883Z",
     "iopub.status.busy": "2022-05-02T02:06:42.314420Z",
     "iopub.status.idle": "2022-05-02T02:06:42.329392Z",
     "shell.execute_reply": "2022-05-02T02:06:42.328728Z"
    },
    "papermill": {
     "duration": 0.072419,
     "end_time": "2022-05-02T02:06:42.331434",
     "exception": false,
     "start_time": "2022-05-02T02:06:42.259015",
     "status": "completed"
    },
    "tags": []
   },
   "outputs": [
    {
     "data": {
      "text/plain": [
       "array([[53892,   687],\n",
       "       [ 1891,  3530]])"
      ]
     },
     "execution_count": 23,
     "metadata": {},
     "output_type": "execute_result"
    }
   ],
   "source": [
    "from sklearn.metrics import confusion_matrix, ConfusionMatrixDisplay\n",
    "cm = confusion_matrix(y_train_5, y_train_pred)\n",
    "cm"
   ]
  },
  {
   "cell_type": "code",
   "execution_count": 24,
   "id": "684d8bb2",
   "metadata": {
    "execution": {
     "iopub.execute_input": "2022-05-02T02:06:42.444988Z",
     "iopub.status.busy": "2022-05-02T02:06:42.444501Z",
     "iopub.status.idle": "2022-05-02T02:06:42.678684Z",
     "shell.execute_reply": "2022-05-02T02:06:42.677964Z"
    },
    "papermill": {
     "duration": 0.292906,
     "end_time": "2022-05-02T02:06:42.680627",
     "exception": false,
     "start_time": "2022-05-02T02:06:42.387721",
     "status": "completed"
    },
    "tags": []
   },
   "outputs": [
    {
     "data": {
      "text/plain": [
       "<sklearn.metrics._plot.confusion_matrix.ConfusionMatrixDisplay at 0x7fb36cb5b450>"
      ]
     },
     "execution_count": 24,
     "metadata": {},
     "output_type": "execute_result"
    },
    {
     "data": {
      "image/png": "[encoded data removed]",
      "text/plain": [
       "<Figure size 432x288 with 2 Axes>"
      ]
     },
     "metadata": {
      "needs_background": "light"
     },
     "output_type": "display_data"
    }
   ],
   "source": [
    "ConfusionMatrixDisplay(cm, display_labels = ['Not 5', \"5\"]).plot(cmap = 'binary')"
   ]
  },
  {
   "cell_type": "markdown",
   "id": "cad20737",
   "metadata": {
    "papermill": {
     "duration": 0.057342,
     "end_time": "2022-05-02T02:06:42.794650",
     "exception": false,
     "start_time": "2022-05-02T02:06:42.737308",
     "status": "completed"
    },
    "tags": []
   },
   "source": [
    "Precision, Recall, F1 Scores"
   ]
  },
  {
   "cell_type": "code",
   "execution_count": 25,
   "id": "e3cb377c",
   "metadata": {
    "execution": {
     "iopub.execute_input": "2022-05-02T02:06:42.910460Z",
     "iopub.status.busy": "2022-05-02T02:06:42.909729Z",
     "iopub.status.idle": "2022-05-02T02:06:42.973927Z",
     "shell.execute_reply": "2022-05-02T02:06:42.972900Z"
    },
    "papermill": {
     "duration": 0.124489,
     "end_time": "2022-05-02T02:06:42.976017",
     "exception": false,
     "start_time": "2022-05-02T02:06:42.851528",
     "status": "completed"
    },
    "tags": []
   },
   "outputs": [
    {
     "name": "stdout",
     "output_type": "stream",
     "text": [
      "precision: 0.8370879772350012\n",
      "recall: 0.6511713705958311\n",
      "f1: 0.7325171197343846\n"
     ]
    }
   ],
   "source": [
    "from sklearn.metrics import precision_score, recall_score, f1_score\n",
    "metrics = {'precision':precision_score, 'recall':recall_score, 'f1':f1_score}\n",
    "for key in metrics:\n",
    "    print(f'{key}: {metrics[key](y_train_5, y_train_pred)}')\n"
   ]
  },
  {
   "cell_type": "code",
   "execution_count": 26,
   "id": "34356f2f",
   "metadata": {
    "execution": {
     "iopub.execute_input": "2022-05-02T02:06:43.092298Z",
     "iopub.status.busy": "2022-05-02T02:06:43.091838Z",
     "iopub.status.idle": "2022-05-02T02:06:56.153599Z",
     "shell.execute_reply": "2022-05-02T02:06:56.152747Z"
    },
    "papermill": {
     "duration": 13.123782,
     "end_time": "2022-05-02T02:06:56.156351",
     "exception": false,
     "start_time": "2022-05-02T02:06:43.032569",
     "status": "completed"
    },
    "tags": []
   },
   "outputs": [],
   "source": [
    "y_scores = cross_val_predict(sgd_clf, X_train, y_train_5, cv = 3, n_jobs = -1, method = 'decision_function')"
   ]
  },
  {
   "cell_type": "code",
   "execution_count": 27,
   "id": "9d7e7a35",
   "metadata": {
    "execution": {
     "iopub.execute_input": "2022-05-02T02:06:56.288886Z",
     "iopub.status.busy": "2022-05-02T02:06:56.288378Z",
     "iopub.status.idle": "2022-05-02T02:06:56.307367Z",
     "shell.execute_reply": "2022-05-02T02:06:56.306324Z"
    },
    "papermill": {
     "duration": 0.082757,
     "end_time": "2022-05-02T02:06:56.309869",
     "exception": false,
     "start_time": "2022-05-02T02:06:56.227112",
     "status": "completed"
    },
    "tags": []
   },
   "outputs": [],
   "source": [
    "from sklearn.metrics import precision_recall_curve\n",
    "precisions, recalls, thresholds = precision_recall_curve(y_train_5, y_scores)"
   ]
  },
  {
   "cell_type": "code",
   "execution_count": 28,
   "id": "e06cf155",
   "metadata": {
    "execution": {
     "iopub.execute_input": "2022-05-02T02:06:56.427952Z",
     "iopub.status.busy": "2022-05-02T02:06:56.427218Z",
     "iopub.status.idle": "2022-05-02T02:06:56.434172Z",
     "shell.execute_reply": "2022-05-02T02:06:56.433567Z"
    },
    "papermill": {
     "duration": 0.066646,
     "end_time": "2022-05-02T02:06:56.435998",
     "exception": false,
     "start_time": "2022-05-02T02:06:56.369352",
     "status": "completed"
    },
    "tags": []
   },
   "outputs": [],
   "source": [
    "def plt_precision_recall_vs_thresh(precisions, recalls, thresholds):\n",
    "    plt.plot(thresholds, precisions[:-1], \"b--\", label=\"Precision\", linewidth=2)\n",
    "    plt.plot(thresholds, recalls[:-1], \"g-\", label=\"Recall\", linewidth=2)\n",
    "    plt.legend(loc=\"center right\", fontsize=16)\n",
    "    plt.xlabel(\"Threshold\", fontsize=16)\n",
    "    plt.grid(True)\n",
    "    plt.axis([-50000, 50000, 0, 1])"
   ]
  },
  {
   "cell_type": "code",
   "execution_count": 29,
   "id": "ca741fff",
   "metadata": {
    "execution": {
     "iopub.execute_input": "2022-05-02T02:06:56.552786Z",
     "iopub.status.busy": "2022-05-02T02:06:56.552009Z",
     "iopub.status.idle": "2022-05-02T02:06:56.804180Z",
     "shell.execute_reply": "2022-05-02T02:06:56.803169Z"
    },
    "papermill": {
     "duration": 0.313028,
     "end_time": "2022-05-02T02:06:56.806228",
     "exception": false,
     "start_time": "2022-05-02T02:06:56.493200",
     "status": "completed"
    },
    "tags": []
   },
   "outputs": [
    {
     "data": {
      "text/plain": [
       "[<matplotlib.lines.Line2D at 0x7fb390b2c690>]"
      ]
     },
     "execution_count": 29,
     "metadata": {},
     "output_type": "execute_result"
    },
    {
     "data": {
      "image/png": "[encoded data removed]",
      "text/plain": [
       "<Figure size 576x288 with 1 Axes>"
      ]
     },
     "metadata": {
      "needs_background": "light"
     },
     "output_type": "display_data"
    }
   ],
   "source": [
    "plt.figure(figsize=(8, 4)) \n",
    "plt_precision_recall_vs_thresh(precisions, recalls, thresholds)\n",
    "\n",
    "\n",
    "recall_90_precision = recalls[np.argmax(precisions >= 0.90)]\n",
    "threshold_90_precision = thresholds[np.argmax(precisions >= 0.90)]\n",
    "\n",
    "\n",
    "plt.plot([threshold_90_precision, threshold_90_precision], [0., 0.9], \"r:\")                 # Not shown\n",
    "plt.plot([-50000, threshold_90_precision], [0.9, 0.9], \"r:\")                                # Not shown\n",
    "plt.plot([-50000, threshold_90_precision], [recall_90_precision, recall_90_precision], \"r:\")# Not shown\n",
    "plt.plot([threshold_90_precision], [0.9], \"ro\")                                             # Not shown\n",
    "plt.plot([threshold_90_precision], [recall_90_precision], \"ro\") "
   ]
  },
  {
   "cell_type": "code",
   "execution_count": 30,
   "id": "5347ade0",
   "metadata": {
    "execution": {
     "iopub.execute_input": "2022-05-02T02:06:56.926288Z",
     "iopub.status.busy": "2022-05-02T02:06:56.926007Z",
     "iopub.status.idle": "2022-05-02T02:06:56.931421Z",
     "shell.execute_reply": "2022-05-02T02:06:56.930651Z"
    },
    "papermill": {
     "duration": 0.068542,
     "end_time": "2022-05-02T02:06:56.933410",
     "exception": false,
     "start_time": "2022-05-02T02:06:56.864868",
     "status": "completed"
    },
    "tags": []
   },
   "outputs": [],
   "source": [
    "def plot_precision_vs_recall(precisions, recalls):\n",
    "    plt.plot(recalls, precisions, \"b-\", linewidth=2)\n",
    "    plt.xlabel(\"Recall\", fontsize=16)\n",
    "    plt.ylabel(\"Precision\", fontsize=16)\n",
    "    plt.axis([0, 1, 0, 1])\n",
    "    plt.grid(True)"
   ]
  },
  {
   "cell_type": "code",
   "execution_count": 31,
   "id": "0cdffe6b",
   "metadata": {
    "execution": {
     "iopub.execute_input": "2022-05-02T02:06:57.053453Z",
     "iopub.status.busy": "2022-05-02T02:06:57.053173Z",
     "iopub.status.idle": "2022-05-02T02:06:57.278871Z",
     "shell.execute_reply": "2022-05-02T02:06:57.278084Z"
    },
    "papermill": {
     "duration": 0.288633,
     "end_time": "2022-05-02T02:06:57.281001",
     "exception": false,
     "start_time": "2022-05-02T02:06:56.992368",
     "status": "completed"
    },
    "tags": []
   },
   "outputs": [
    {
     "data": {
      "text/plain": [
       "[<matplotlib.lines.Line2D at 0x7fb390ab9f10>]"
      ]
     },
     "execution_count": 31,
     "metadata": {},
     "output_type": "execute_result"
    },
    {
     "data": {
      "image/png": "[encoded data removed]",
      "text/plain": [
       "<Figure size 576x432 with 1 Axes>"
      ]
     },
     "metadata": {
      "needs_background": "light"
     },
     "output_type": "display_data"
    }
   ],
   "source": [
    "plt.figure(figsize=(8, 6))\n",
    "plot_precision_vs_recall(precisions, recalls)\n",
    "plt.plot([recall_90_precision, recall_90_precision], [0., 0.9], \"r:\")\n",
    "plt.plot([0.0, recall_90_precision], [0.9, 0.9], \"r:\")\n",
    "plt.plot([recall_90_precision], [0.9], \"ro\")"
   ]
  },
  {
   "cell_type": "code",
   "execution_count": 32,
   "id": "ec43a304",
   "metadata": {
    "execution": {
     "iopub.execute_input": "2022-05-02T02:06:57.406386Z",
     "iopub.status.busy": "2022-05-02T02:06:57.406101Z",
     "iopub.status.idle": "2022-05-02T02:06:57.422884Z",
     "shell.execute_reply": "2022-05-02T02:06:57.422063Z"
    },
    "papermill": {
     "duration": 0.082088,
     "end_time": "2022-05-02T02:06:57.425080",
     "exception": false,
     "start_time": "2022-05-02T02:06:57.342992",
     "status": "completed"
    },
    "tags": []
   },
   "outputs": [],
   "source": [
    "from sklearn.metrics import roc_curve\n",
    "\n",
    "fpr, tpr, thresholds = roc_curve(y_train_5, y_scores)"
   ]
  },
  {
   "cell_type": "code",
   "execution_count": 33,
   "id": "e5dfb100",
   "metadata": {
    "execution": {
     "iopub.execute_input": "2022-05-02T02:06:57.548944Z",
     "iopub.status.busy": "2022-05-02T02:06:57.548231Z",
     "iopub.status.idle": "2022-05-02T02:06:57.768254Z",
     "shell.execute_reply": "2022-05-02T02:06:57.767389Z"
    },
    "papermill": {
     "duration": 0.283931,
     "end_time": "2022-05-02T02:06:57.770563",
     "exception": false,
     "start_time": "2022-05-02T02:06:57.486632",
     "status": "completed"
    },
    "tags": []
   },
   "outputs": [
    {
     "data": {
      "text/plain": [
       "[<matplotlib.lines.Line2D at 0x7fb390a46d10>]"
      ]
     },
     "execution_count": 33,
     "metadata": {},
     "output_type": "execute_result"
    },
    {
     "data": {
      "image/png": "[encoded data removed]",
      "text/plain": [
       "<Figure size 576x432 with 1 Axes>"
      ]
     },
     "metadata": {
      "needs_background": "light"
     },
     "output_type": "display_data"
    }
   ],
   "source": [
    "def plot_roc_curve(fpr, tpr, label=None):\n",
    "    plt.plot(fpr, tpr, linewidth=2, label=label)\n",
    "    plt.plot([0, 1], [0, 1], 'k--') # dashed diagonal\n",
    "    plt.axis([0, 1, 0, 1])                                    # Not shown in the book\n",
    "    plt.xlabel('False Positive Rate (Fall-Out)', fontsize=16) # Not shown\n",
    "    plt.ylabel('True Positive Rate (Recall)', fontsize=16)    # Not shown\n",
    "    plt.grid(True)                                            # Not shown\n",
    "\n",
    "plt.figure(figsize=(8, 6))                                    # Not shown\n",
    "plot_roc_curve(fpr, tpr)\n",
    "fpr_90 = fpr[np.argmax(tpr >= recall_90_precision)]           # Not shown\n",
    "plt.plot([fpr_90, fpr_90], [0., recall_90_precision], \"r:\")   # Not shown\n",
    "plt.plot([0.0, fpr_90], [recall_90_precision, recall_90_precision], \"r:\")  # Not shown\n",
    "plt.plot([fpr_90], [recall_90_precision], \"ro\") "
   ]
  },
  {
   "cell_type": "code",
   "execution_count": 34,
   "id": "a69785d5",
   "metadata": {
    "execution": {
     "iopub.execute_input": "2022-05-02T02:06:57.897816Z",
     "iopub.status.busy": "2022-05-02T02:06:57.897214Z",
     "iopub.status.idle": "2022-05-02T02:06:57.924174Z",
     "shell.execute_reply": "2022-05-02T02:06:57.923280Z"
    },
    "papermill": {
     "duration": 0.093482,
     "end_time": "2022-05-02T02:06:57.926695",
     "exception": false,
     "start_time": "2022-05-02T02:06:57.833213",
     "status": "completed"
    },
    "tags": []
   },
   "outputs": [
    {
     "data": {
      "text/plain": [
       "0.9604938554008616"
      ]
     },
     "execution_count": 34,
     "metadata": {},
     "output_type": "execute_result"
    }
   ],
   "source": [
    "from sklearn.metrics import roc_auc_score\n",
    "\n",
    "roc_auc_score(y_train_5, y_scores)"
   ]
  },
  {
   "cell_type": "code",
   "execution_count": 35,
   "id": "b11e7427",
   "metadata": {
    "execution": {
     "iopub.execute_input": "2022-05-02T02:06:58.057158Z",
     "iopub.status.busy": "2022-05-02T02:06:58.056376Z",
     "iopub.status.idle": "2022-05-02T02:07:28.146708Z",
     "shell.execute_reply": "2022-05-02T02:07:28.145865Z"
    },
    "papermill": {
     "duration": 30.220507,
     "end_time": "2022-05-02T02:07:28.211618",
     "exception": false,
     "start_time": "2022-05-02T02:06:57.991111",
     "status": "completed"
    },
    "tags": []
   },
   "outputs": [
    {
     "data": {
      "text/plain": [
       "array([[0.16, 0.84],\n",
       "       [0.99, 0.01],\n",
       "       [0.99, 0.01],\n",
       "       ...,\n",
       "       [0.03, 0.97],\n",
       "       [0.96, 0.04],\n",
       "       [0.88, 0.12]])"
      ]
     },
     "execution_count": 35,
     "metadata": {},
     "output_type": "execute_result"
    }
   ],
   "source": [
    "from sklearn.ensemble import RandomForestClassifier\n",
    "\n",
    "rf_clf = RandomForestClassifier()\n",
    "y_probas_forest = cross_val_predict(rf_clf, X_train, y_train_5, cv=3, n_jobs = -1, method = 'predict_proba')\n",
    "y_probas_forest"
   ]
  },
  {
   "cell_type": "code",
   "execution_count": 36,
   "id": "098050ea",
   "metadata": {
    "execution": {
     "iopub.execute_input": "2022-05-02T02:07:28.341788Z",
     "iopub.status.busy": "2022-05-02T02:07:28.340824Z",
     "iopub.status.idle": "2022-05-02T02:07:28.592359Z",
     "shell.execute_reply": "2022-05-02T02:07:28.591584Z"
    },
    "papermill": {
     "duration": 0.3194,
     "end_time": "2022-05-02T02:07:28.594843",
     "exception": false,
     "start_time": "2022-05-02T02:07:28.275443",
     "status": "completed"
    },
    "tags": []
   },
   "outputs": [
    {
     "data": {
      "text/plain": [
       "<matplotlib.legend.Legend at 0x7fb3909faad0>"
      ]
     },
     "execution_count": 36,
     "metadata": {},
     "output_type": "execute_result"
    },
    {
     "data": {
      "image/png": "[encoded data removed]",
      "text/plain": [
       "<Figure size 576x432 with 1 Axes>"
      ]
     },
     "metadata": {
      "needs_background": "light"
     },
     "output_type": "display_data"
    }
   ],
   "source": [
    "y_scores_forest = y_probas_forest[:, 1]\n",
    "fpr_forest, tpr_forest, thresholds_forest = roc_curve(y_train_5, y_scores_forest)\n",
    "recall_for_forest = tpr_forest[np.argmax(fpr_forest >= fpr_90)]\n",
    "\n",
    "plt.figure(figsize=(8, 6))\n",
    "plt.plot(fpr, tpr, \"b:\", linewidth=2, label=\"SGD\")\n",
    "plot_roc_curve(fpr_forest, tpr_forest, \"Random Forest\")\n",
    "plt.plot([fpr_90, fpr_90], [0., recall_90_precision], \"r:\")\n",
    "plt.plot([0.0, fpr_90], [recall_90_precision, recall_90_precision], \"r:\")\n",
    "plt.plot([fpr_90], [recall_90_precision], \"ro\")\n",
    "plt.plot([fpr_90, fpr_90], [0., recall_for_forest], \"r:\")\n",
    "plt.plot([fpr_90], [recall_for_forest], \"ro\")\n",
    "plt.grid(True)\n",
    "plt.legend(loc=\"lower right\", fontsize=16)"
   ]
  },
  {
   "cell_type": "code",
   "execution_count": 37,
   "id": "16a5e2a6",
   "metadata": {
    "execution": {
     "iopub.execute_input": "2022-05-02T02:07:28.728636Z",
     "iopub.status.busy": "2022-05-02T02:07:28.727846Z",
     "iopub.status.idle": "2022-05-02T02:07:28.749097Z",
     "shell.execute_reply": "2022-05-02T02:07:28.748290Z"
    },
    "papermill": {
     "duration": 0.09029,
     "end_time": "2022-05-02T02:07:28.750892",
     "exception": false,
     "start_time": "2022-05-02T02:07:28.660602",
     "status": "completed"
    },
    "tags": []
   },
   "outputs": [
    {
     "data": {
      "text/plain": [
       "0.9984746432840746"
      ]
     },
     "execution_count": 37,
     "metadata": {},
     "output_type": "execute_result"
    }
   ],
   "source": [
    "roc_auc_score(y_train_5, y_scores_forest)"
   ]
  },
  {
   "cell_type": "code",
   "execution_count": 38,
   "id": "66c38a43",
   "metadata": {
    "execution": {
     "iopub.execute_input": "2022-05-02T02:07:28.886134Z",
     "iopub.status.busy": "2022-05-02T02:07:28.885327Z",
     "iopub.status.idle": "2022-05-02T02:07:58.973749Z",
     "shell.execute_reply": "2022-05-02T02:07:58.973080Z"
    },
    "papermill": {
     "duration": 30.158966,
     "end_time": "2022-05-02T02:07:58.975993",
     "exception": false,
     "start_time": "2022-05-02T02:07:28.817027",
     "status": "completed"
    },
    "tags": []
   },
   "outputs": [],
   "source": [
    "y_train_pred_forest = cross_val_predict(rf_clf, X_train, y_train_5, cv=3, n_jobs = -1)"
   ]
  },
  {
   "cell_type": "code",
   "execution_count": 39,
   "id": "672f7312",
   "metadata": {
    "execution": {
     "iopub.execute_input": "2022-05-02T02:07:59.111776Z",
     "iopub.status.busy": "2022-05-02T02:07:59.111492Z",
     "iopub.status.idle": "2022-05-02T02:07:59.136006Z",
     "shell.execute_reply": "2022-05-02T02:07:59.135084Z"
    },
    "papermill": {
     "duration": 0.094452,
     "end_time": "2022-05-02T02:07:59.138206",
     "exception": false,
     "start_time": "2022-05-02T02:07:59.043754",
     "status": "completed"
    },
    "tags": []
   },
   "outputs": [
    {
     "data": {
      "text/plain": [
       "0.9900969237252423"
      ]
     },
     "execution_count": 39,
     "metadata": {},
     "output_type": "execute_result"
    }
   ],
   "source": [
    "precision_score(y_train_5, y_train_pred_forest)\n"
   ]
  },
  {
   "cell_type": "code",
   "execution_count": 40,
   "id": "f9f99794",
   "metadata": {
    "execution": {
     "iopub.execute_input": "2022-05-02T02:07:59.272849Z",
     "iopub.status.busy": "2022-05-02T02:07:59.272543Z",
     "iopub.status.idle": "2022-05-02T02:07:59.297880Z",
     "shell.execute_reply": "2022-05-02T02:07:59.297078Z"
    },
    "papermill": {
     "duration": 0.094854,
     "end_time": "2022-05-02T02:07:59.299685",
     "exception": false,
     "start_time": "2022-05-02T02:07:59.204831",
     "status": "completed"
    },
    "tags": []
   },
   "outputs": [
    {
     "data": {
      "text/plain": [
       "0.8668142409149603"
      ]
     },
     "execution_count": 40,
     "metadata": {},
     "output_type": "execute_result"
    }
   ],
   "source": [
    "recall_score(y_train_5, y_train_pred_forest)"
   ]
  },
  {
   "cell_type": "markdown",
   "id": "c92e5402",
   "metadata": {
    "papermill": {
     "duration": 0.068027,
     "end_time": "2022-05-02T02:07:59.434712",
     "exception": false,
     "start_time": "2022-05-02T02:07:59.366685",
     "status": "completed"
    },
    "tags": []
   },
   "source": [
    "Multiclass Classification"
   ]
  },
  {
   "cell_type": "code",
   "execution_count": 41,
   "id": "f50239fa",
   "metadata": {
    "execution": {
     "iopub.execute_input": "2022-05-02T02:07:59.571204Z",
     "iopub.status.busy": "2022-05-02T02:07:59.570696Z",
     "iopub.status.idle": "2022-05-02T02:12:28.665263Z",
     "shell.execute_reply": "2022-05-02T02:12:28.660557Z"
    },
    "papermill": {
     "duration": 269.2299,
     "end_time": "2022-05-02T02:12:28.731888",
     "exception": false,
     "start_time": "2022-05-02T02:07:59.501988",
     "status": "completed"
    },
    "tags": []
   },
   "outputs": [
    {
     "data": {
      "text/plain": [
       "array([5], dtype=uint8)"
      ]
     },
     "execution_count": 41,
     "metadata": {},
     "output_type": "execute_result"
    }
   ],
   "source": [
    "from sklearn.svm import SVC\n",
    "\n",
    "svm_clf = SVC()\n",
    "\n",
    "svm_clf.fit(X_train, y_train)\n",
    "svm_clf.predict([X[0]])\n"
   ]
  },
  {
   "cell_type": "code",
   "execution_count": 42,
   "id": "494866f4",
   "metadata": {
    "execution": {
     "iopub.execute_input": "2022-05-02T02:12:28.872805Z",
     "iopub.status.busy": "2022-05-02T02:12:28.871900Z",
     "iopub.status.idle": "2022-05-02T02:12:28.889337Z",
     "shell.execute_reply": "2022-05-02T02:12:28.888763Z"
    },
    "papermill": {
     "duration": 0.091173,
     "end_time": "2022-05-02T02:12:28.891404",
     "exception": false,
     "start_time": "2022-05-02T02:12:28.800231",
     "status": "completed"
    },
    "tags": []
   },
   "outputs": [],
   "source": [
    "digit_score = svm_clf.decision_function([X[0]])"
   ]
  },
  {
   "cell_type": "code",
   "execution_count": 43,
   "id": "84cf1bd7",
   "metadata": {
    "execution": {
     "iopub.execute_input": "2022-05-02T02:12:29.031295Z",
     "iopub.status.busy": "2022-05-02T02:12:29.030734Z",
     "iopub.status.idle": "2022-05-02T02:12:29.037133Z",
     "shell.execute_reply": "2022-05-02T02:12:29.036347Z"
    },
    "papermill": {
     "duration": 0.078271,
     "end_time": "2022-05-02T02:12:29.038960",
     "exception": false,
     "start_time": "2022-05-02T02:12:28.960689",
     "status": "completed"
    },
    "tags": []
   },
   "outputs": [
    {
     "data": {
      "text/plain": [
       "5"
      ]
     },
     "execution_count": 43,
     "metadata": {},
     "output_type": "execute_result"
    }
   ],
   "source": [
    "svm_clf.classes_[np.argmax(digit_score)]"
   ]
  },
  {
   "cell_type": "code",
   "execution_count": 44,
   "id": "44b0e1f0",
   "metadata": {
    "execution": {
     "iopub.execute_input": "2022-05-02T02:12:29.180440Z",
     "iopub.status.busy": "2022-05-02T02:12:29.180046Z",
     "iopub.status.idle": "2022-05-02T02:38:57.440470Z",
     "shell.execute_reply": "2022-05-02T02:38:57.439606Z"
    },
    "papermill": {
     "duration": 1588.408856,
     "end_time": "2022-05-02T02:38:57.518573",
     "exception": false,
     "start_time": "2022-05-02T02:12:29.109717",
     "status": "completed"
    },
    "tags": []
   },
   "outputs": [
    {
     "data": {
      "text/plain": [
       "10"
      ]
     },
     "execution_count": 44,
     "metadata": {},
     "output_type": "execute_result"
    }
   ],
   "source": [
    "from sklearn.multiclass import OneVsRestClassifier\n",
    "ovr_clf = OneVsRestClassifier(SVC())\n",
    "ovr_clf.fit(X_train, y_train)\n",
    "ovr_clf.predict([X[0]])\n",
    "len(ovr_clf.estimators_)"
   ]
  },
  {
   "cell_type": "code",
   "execution_count": 45,
   "id": "bd84a0bb",
   "metadata": {
    "execution": {
     "iopub.execute_input": "2022-05-02T02:38:57.660200Z",
     "iopub.status.busy": "2022-05-02T02:38:57.659891Z",
     "iopub.status.idle": "2022-05-02T02:42:02.470639Z",
     "shell.execute_reply": "2022-05-02T02:42:02.469796Z"
    },
    "papermill": {
     "duration": 184.954457,
     "end_time": "2022-05-02T02:42:02.543641",
     "exception": false,
     "start_time": "2022-05-02T02:38:57.589184",
     "status": "completed"
    },
    "tags": []
   },
   "outputs": [
    {
     "data": {
      "text/plain": [
       "array([3], dtype=uint8)"
      ]
     },
     "execution_count": 45,
     "metadata": {},
     "output_type": "execute_result"
    }
   ],
   "source": [
    "sgd_clf.fit(X_train, y_train)\n",
    "sgd_clf.predict([X[0]])"
   ]
  },
  {
   "cell_type": "code",
   "execution_count": 46,
   "id": "a7187b4e",
   "metadata": {
    "execution": {
     "iopub.execute_input": "2022-05-02T02:42:02.687759Z",
     "iopub.status.busy": "2022-05-02T02:42:02.687426Z",
     "iopub.status.idle": "2022-05-02T02:42:02.693989Z",
     "shell.execute_reply": "2022-05-02T02:42:02.693187Z"
    },
    "papermill": {
     "duration": 0.080829,
     "end_time": "2022-05-02T02:42:02.695970",
     "exception": false,
     "start_time": "2022-05-02T02:42:02.615141",
     "status": "completed"
    },
    "tags": []
   },
   "outputs": [
    {
     "data": {
      "text/plain": [
       "array([[-31893.03095419, -34419.69069632,  -9530.63950739,\n",
       "          1823.73154031, -22320.14822878,  -1385.80478895,\n",
       "        -26188.91070951, -16147.51323997,  -4604.35491274,\n",
       "        -12050.767298  ]])"
      ]
     },
     "execution_count": 46,
     "metadata": {},
     "output_type": "execute_result"
    }
   ],
   "source": [
    "sgd_clf.decision_function([X[0]])"
   ]
  },
  {
   "cell_type": "code",
   "execution_count": 47,
   "id": "e3108b47",
   "metadata": {
    "execution": {
     "iopub.execute_input": "2022-05-02T02:42:02.839395Z",
     "iopub.status.busy": "2022-05-02T02:42:02.839094Z",
     "iopub.status.idle": "2022-05-02T02:44:12.540166Z",
     "shell.execute_reply": "2022-05-02T02:44:12.539054Z"
    },
    "papermill": {
     "duration": 129.847561,
     "end_time": "2022-05-02T02:44:12.614176",
     "exception": false,
     "start_time": "2022-05-02T02:42:02.766615",
     "status": "completed"
    },
    "tags": []
   },
   "outputs": [
    {
     "data": {
      "text/plain": [
       "array([0.87365, 0.85835, 0.8689 ])"
      ]
     },
     "execution_count": 47,
     "metadata": {},
     "output_type": "execute_result"
    }
   ],
   "source": [
    "cross_val_score(sgd_clf, X_train, y_train, cv = 3, n_jobs = -1,  scoring='accuracy')"
   ]
  },
  {
   "cell_type": "code",
   "execution_count": 48,
   "id": "cb9c3d7f",
   "metadata": {
    "execution": {
     "iopub.execute_input": "2022-05-02T02:44:12.760570Z",
     "iopub.status.busy": "2022-05-02T02:44:12.760218Z",
     "iopub.status.idle": "2022-05-02T02:57:37.717978Z",
     "shell.execute_reply": "2022-05-02T02:57:37.716593Z"
    },
    "papermill": {
     "duration": 805.14508,
     "end_time": "2022-05-02T02:57:37.831557",
     "exception": false,
     "start_time": "2022-05-02T02:44:12.686477",
     "status": "completed"
    },
    "tags": []
   },
   "outputs": [
    {
     "data": {
      "text/plain": [
       "array([0.8983, 0.891 , 0.9018])"
      ]
     },
     "execution_count": 48,
     "metadata": {},
     "output_type": "execute_result"
    }
   ],
   "source": [
    "from sklearn.preprocessing import StandardScaler\n",
    "scaler = StandardScaler()\n",
    "X_train_scaled = scaler.fit_transform(X_train.astype(np.float64))\n",
    "cross_val_score(sgd_clf, X_train_scaled, y_train, cv=3, scoring=\"accuracy\")"
   ]
  },
  {
   "cell_type": "code",
   "execution_count": 49,
   "id": "0fde2319",
   "metadata": {
    "execution": {
     "iopub.execute_input": "2022-05-02T02:57:37.978377Z",
     "iopub.status.busy": "2022-05-02T02:57:37.978033Z",
     "iopub.status.idle": "2022-05-02T03:02:41.994079Z",
     "shell.execute_reply": "2022-05-02T03:02:41.992921Z"
    },
    "papermill": {
     "duration": 304.17303,
     "end_time": "2022-05-02T03:02:42.077496",
     "exception": false,
     "start_time": "2022-05-02T02:57:37.904466",
     "status": "completed"
    },
    "tags": []
   },
   "outputs": [
    {
     "data": {
      "text/plain": [
       "array([[5577,    0,   22,    5,    8,   43,   36,    6,  225,    1],\n",
       "       [   0, 6400,   37,   24,    4,   44,    4,    7,  212,   10],\n",
       "       [  27,   27, 5220,   92,   73,   27,   67,   36,  378,   11],\n",
       "       [  22,   17,  117, 5227,    2,  203,   27,   40,  403,   73],\n",
       "       [  12,   14,   41,    9, 5182,   12,   34,   27,  347,  164],\n",
       "       [  27,   15,   30,  168,   53, 4444,   75,   14,  535,   60],\n",
       "       [  30,   15,   42,    3,   44,   97, 5552,    3,  131,    1],\n",
       "       [  21,   10,   51,   30,   49,   12,    3, 5684,  195,  210],\n",
       "       [  17,   63,   48,   86,    3,  126,   25,   10, 5429,   44],\n",
       "       [  25,   18,   30,   64,  118,   36,    1,  179,  371, 5107]])"
      ]
     },
     "execution_count": 49,
     "metadata": {},
     "output_type": "execute_result"
    }
   ],
   "source": [
    "y_train_pred = cross_val_predict(sgd_clf, X_train_scaled, y_train, cv=3, n_jobs = -1)\n",
    "conf_mx = confusion_matrix(y_train, y_train_pred)\n",
    "conf_mx"
   ]
  },
  {
   "cell_type": "code",
   "execution_count": 50,
   "id": "7ee5df92",
   "metadata": {
    "execution": {
     "iopub.execute_input": "2022-05-02T03:02:42.237093Z",
     "iopub.status.busy": "2022-05-02T03:02:42.236470Z",
     "iopub.status.idle": "2022-05-02T03:02:42.506767Z",
     "shell.execute_reply": "2022-05-02T03:02:42.505592Z"
    },
    "papermill": {
     "duration": 0.351712,
     "end_time": "2022-05-02T03:02:42.509044",
     "exception": false,
     "start_time": "2022-05-02T03:02:42.157332",
     "status": "completed"
    },
    "tags": []
   },
   "outputs": [
    {
     "data": {
      "text/plain": [
       "<matplotlib.image.AxesImage at 0x7fb36c953b10>"
      ]
     },
     "execution_count": 50,
     "metadata": {},
     "output_type": "execute_result"
    },
    {
     "data": {
      "image/png": "[encoded data removed]",
      "text/plain": [
       "<Figure size 288x288 with 1 Axes>"
      ]
     },
     "metadata": {
      "needs_background": "light"
     },
     "output_type": "display_data"
    }
   ],
   "source": [
    "plt.matshow(conf_mx, cmap=plt.cm.gray)"
   ]
  },
  {
   "cell_type": "code",
   "execution_count": null,
   "id": "e9e5a950",
   "metadata": {
    "papermill": {
     "duration": 0.078304,
     "end_time": "2022-05-02T03:02:42.759595",
     "exception": false,
     "start_time": "2022-05-02T03:02:42.681291",
     "status": "completed"
    },
    "tags": []
   },
   "outputs": [],
   "source": []
  }
 ],
 "metadata": {
  "kernelspec": {
   "display_name": "Python 3",
   "language": "python",
   "name": "python3"
  },
  "language_info": {
   "codemirror_mode": {
    "name": "ipython",
    "version": 3
   },
   "file_extension": ".py",
   "mimetype": "text/x-python",
   "name": "python",
   "nbconvert_exporter": "python",
   "pygments_lexer": "ipython3",
   "version": "3.7.12"
  },
  "papermill": {
   "default_parameters": {},
   "duration": 3469.677128,
   "end_time": "2022-05-02T03:02:45.463585",
   "environment_variables": {},
   "exception": null,
   "input_path": "__notebook__.ipynb",
   "output_path": "__notebook__.ipynb",
   "parameters": {},
   "start_time": "2022-05-02T02:04:55.786457",
   "version": "2.3.4"
  }
 },
 "nbformat": 4,
 "nbformat_minor": 5
}
